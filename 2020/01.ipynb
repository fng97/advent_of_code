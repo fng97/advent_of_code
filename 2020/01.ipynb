{
 "cells": [
  {
   "cell_type": "markdown",
   "metadata": {},
   "source": [
    "# Advent of Code 01/12/2020"
   ]
  },
  {
   "cell_type": "markdown",
   "metadata": {},
   "source": [
    "## Part 1"
   ]
  },
  {
   "cell_type": "code",
   "execution_count": 1,
   "metadata": {},
   "outputs": [],
   "source": [
    "expense_report = open('01_input').read()\n",
    "# print(expense_report)\n",
    "expenses = expense_report.split()"
   ]
  },
  {
   "cell_type": "code",
   "execution_count": 2,
   "metadata": {},
   "outputs": [],
   "source": [
    "answer = int()\n",
    "for expense in expenses:\n",
    "    for expense_to_compare in expenses:\n",
    "        if int(expense) + int(expense_to_compare) == 2020:\n",
    "            print('Expense 1: ' + expense)\n",
    "            print('Expense 2: ' + expense_to_compare)\n",
    "            answer = int(expense) * int(expense_to_compare)\n",
    "            print('Answer: ' + str(answer))\n",
    "    if answer:\n",
    "        break"
   ]
  },
  {
   "cell_type": "markdown",
   "metadata": {},
   "source": [
    "## Part 2"
   ]
  },
  {
   "cell_type": "code",
   "execution_count": 3,
   "metadata": {},
   "outputs": [
    {
     "name": "stdout",
     "output_type": "stream",
     "text": [
      "Expense 1: 1142\n",
      "Expense 2: 695\n",
      "Expense 3: 183\n",
      "Answer: 145245270\n"
     ]
    }
   ],
   "source": [
    "answer = int()\n",
    "for expense1 in expenses:\n",
    "    for expense2 in expenses:\n",
    "        for expense3 in expenses:\n",
    "            if int(expense1) + int(expense2) + int(expense3) == 2020:\n",
    "                print('Expense 1: ' + expense1)\n",
    "                print('Expense 2: ' + expense2)\n",
    "                print('Expense 3: ' + expense3)\n",
    "                answer = int(expense1) * int(expense2) * int(expense3)\n",
    "                print('Answer: ' + str(answer))\n",
    "        if answer:\n",
    "            break"
   ]
  }
 ],
 "metadata": {
  "kernelspec": {
   "display_name": "Python 3",
   "language": "python",
   "name": "python3"
  },
  "language_info": {
   "codemirror_mode": {
    "name": "ipython",
    "version": 3
   },
   "file_extension": ".py",
   "mimetype": "text/x-python",
   "name": "python",
   "nbconvert_exporter": "python",
   "pygments_lexer": "ipython3",
   "version": "3.7.6"
  }
 },
 "nbformat": 4,
 "nbformat_minor": 4
}
