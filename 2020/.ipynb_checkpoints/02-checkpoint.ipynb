{
 "cells": [
  {
   "cell_type": "markdown",
   "metadata": {},
   "source": [
    "# Advent of Code 02/12/20"
   ]
  },
  {
   "cell_type": "markdown",
   "metadata": {},
   "source": [
    "## Part 1"
   ]
  },
  {
   "cell_type": "code",
   "execution_count": 44,
   "metadata": {
    "scrolled": true
   },
   "outputs": [],
   "source": [
    "corrupted_passwords = open('02_input')\n",
    "# print(corrupted_passwords.read())\n",
    "passwords = corrupted_passwords.read().split('\\n')\n",
    "del passwords[-1]  # last item empty"
   ]
  },
  {
   "cell_type": "code",
   "execution_count": 37,
   "metadata": {},
   "outputs": [],
   "source": [
    "valid_passwords_count = 0\n",
    "for password in passwords:\n",
    "    count_limit, letter, pw = password.split()\n",
    "    min_count, max_count = count_limit.split('-')\n",
    "    count = pw.count(letter[0])\n",
    "    if count >= int(min_count) and count <= int(max_count):\n",
    "        valid_passwords_count += 1"
   ]
  },
  {
   "cell_type": "code",
   "execution_count": 28,
   "metadata": {},
   "outputs": [
    {
     "name": "stdout",
     "output_type": "stream",
     "text": [
      "Number of valid passwords: 378\n"
     ]
    }
   ],
   "source": [
    "print('Number of valid passwords: ' + str(valid_passwords_count))"
   ]
  },
  {
   "cell_type": "markdown",
   "metadata": {},
   "source": [
    "## Part 2"
   ]
  },
  {
   "cell_type": "code",
   "execution_count": 53,
   "metadata": {},
   "outputs": [],
   "source": [
    "valid_passwords_count = 0\n",
    "for password in passwords:\n",
    "    indexes, letter, pw = password.split()\n",
    "    index1, index2 = indexes.split('-')\n",
    "    check1 = pw[int(index1)-1] == letter[0]\n",
    "    check2 = pw[int(index2)-1] == letter[0]\n",
    "    if check1 != check2:\n",
    "        valid_passwords_count += 1"
   ]
  },
  {
   "cell_type": "code",
   "execution_count": 54,
   "metadata": {},
   "outputs": [
    {
     "name": "stdout",
     "output_type": "stream",
     "text": [
      "Number of valid passwords: 280\n"
     ]
    }
   ],
   "source": [
    "print('Number of valid passwords: ' + str(valid_passwords_count))"
   ]
  }
 ],
 "metadata": {
  "kernelspec": {
   "display_name": "Python 3",
   "language": "python",
   "name": "python3"
  },
  "language_info": {
   "codemirror_mode": {
    "name": "ipython",
    "version": 3
   },
   "file_extension": ".py",
   "mimetype": "text/x-python",
   "name": "python",
   "nbconvert_exporter": "python",
   "pygments_lexer": "ipython3",
   "version": "3.7.6"
  }
 },
 "nbformat": 4,
 "nbformat_minor": 4
}
