{
 "cells": [
  {
   "cell_type": "markdown",
   "metadata": {},
   "source": [
    "# Advent of Code 03/12/2020"
   ]
  },
  {
   "cell_type": "markdown",
   "metadata": {},
   "source": [
    "## Part 1"
   ]
  },
  {
   "cell_type": "code",
   "execution_count": 111,
   "metadata": {},
   "outputs": [],
   "source": [
    "tree_map = open('03_input')\n",
    "tree_rows = tree_map.read().split('\\n')\n",
    "del tree_rows[-1]  # last item empty"
   ]
  },
  {
   "cell_type": "code",
   "execution_count": 112,
   "metadata": {},
   "outputs": [],
   "source": [
    "pos = 0\n",
    "count = 0\n",
    "for row in tree_rows:\n",
    "    if row[pos%len(row)] == '#':\n",
    "        count += 1\n",
    "    pos += 3"
   ]
  },
  {
   "cell_type": "code",
   "execution_count": 113,
   "metadata": {},
   "outputs": [
    {
     "name": "stdout",
     "output_type": "stream",
     "text": [
      "Trees on slope: 169\n"
     ]
    }
   ],
   "source": [
    "print('Trees on slope:', count)"
   ]
  },
  {
   "cell_type": "markdown",
   "metadata": {},
   "source": [
    "## Part 2"
   ]
  },
  {
   "cell_type": "code",
   "execution_count": 114,
   "metadata": {},
   "outputs": [],
   "source": [
    "def trees_on_slope(moves_right, moves_down, tree_rows):\n",
    "    row = 0\n",
    "    pos = 0\n",
    "    count = 0\n",
    "    while row < len(tree_rows):\n",
    "        if tree_rows[row][pos%len(tree_rows[row])] == '#':\n",
    "            count += 1\n",
    "        pos += moves_right\n",
    "        row += moves_down\n",
    "    return count"
   ]
  },
  {
   "cell_type": "code",
   "execution_count": 117,
   "metadata": {},
   "outputs": [
    {
     "name": "stdout",
     "output_type": "stream",
     "text": [
      "1 1\n",
      "Trees on slope [1, 1]: 87\n",
      "3 1\n",
      "Trees on slope [3, 1]: 169\n",
      "5 1\n",
      "Trees on slope [5, 1]: 99\n",
      "7 1\n",
      "Trees on slope [7, 1]: 98\n",
      "1 2\n",
      "Trees on slope [1, 2]: 87\n",
      "Product of obstructive trees on each slope: 12410420022\n"
     ]
    }
   ],
   "source": [
    "slopes = [[1, 1], [3, 1], [5, 1], [7, 1], [1, 2]]\n",
    "ans = 1\n",
    "for slope in slopes:\n",
    "    moves_right, moves_left = slope\n",
    "    print(moves_right, moves_left)\n",
    "    print('Trees on slope', str(slope) + ':', trees_on_slope(moves_right, moves_down, tree_rows))\n",
    "    ans = ans * trees_on_slope(moves_right, moves_down, tree_rows)\n",
    "print('Product of obstructive trees on each slope:', ans)"
   ]
  },
  {
   "cell_type": "code",
   "execution_count": 118,
   "metadata": {},
   "outputs": [
    {
     "data": {
      "text/plain": [
       "87"
      ]
     },
     "execution_count": 118,
     "metadata": {},
     "output_type": "execute_result"
    }
   ],
   "source": [
    "trees_on_slope(1,1,tree_rows)"
   ]
  },
  {
   "cell_type": "code",
   "execution_count": 119,
   "metadata": {},
   "outputs": [
    {
     "data": {
      "text/plain": [
       "169"
      ]
     },
     "execution_count": 119,
     "metadata": {},
     "output_type": "execute_result"
    }
   ],
   "source": [
    "trees_on_slope(3,1,tree_rows)"
   ]
  },
  {
   "cell_type": "code",
   "execution_count": 120,
   "metadata": {},
   "outputs": [
    {
     "data": {
      "text/plain": [
       "99"
      ]
     },
     "execution_count": 120,
     "metadata": {},
     "output_type": "execute_result"
    }
   ],
   "source": [
    "trees_on_slope(5,1,tree_rows)"
   ]
  },
  {
   "cell_type": "code",
   "execution_count": 121,
   "metadata": {},
   "outputs": [
    {
     "data": {
      "text/plain": [
       "98"
      ]
     },
     "execution_count": 121,
     "metadata": {},
     "output_type": "execute_result"
    }
   ],
   "source": [
    "trees_on_slope(7,1,tree_rows)"
   ]
  },
  {
   "cell_type": "code",
   "execution_count": 122,
   "metadata": {},
   "outputs": [
    {
     "data": {
      "text/plain": [
       "53"
      ]
     },
     "execution_count": 122,
     "metadata": {},
     "output_type": "execute_result"
    }
   ],
   "source": [
    "trees_on_slope(1,2,tree_rows)"
   ]
  },
  {
   "cell_type": "code",
   "execution_count": null,
   "metadata": {},
   "outputs": [],
   "source": []
  }
 ],
 "metadata": {
  "kernelspec": {
   "display_name": "Python 3",
   "language": "python",
   "name": "python3"
  },
  "language_info": {
   "codemirror_mode": {
    "name": "ipython",
    "version": 3
   },
   "file_extension": ".py",
   "mimetype": "text/x-python",
   "name": "python",
   "nbconvert_exporter": "python",
   "pygments_lexer": "ipython3",
   "version": "3.7.6"
  }
 },
 "nbformat": 4,
 "nbformat_minor": 4
}
