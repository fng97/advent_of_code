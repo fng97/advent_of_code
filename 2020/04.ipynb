{
 "cells": [
  {
   "cell_type": "markdown",
   "metadata": {},
   "source": [
    "# Advent of Code 04/12/2020"
   ]
  },
  {
   "cell_type": "markdown",
   "metadata": {},
   "source": [
    "## Part 1"
   ]
  },
  {
   "cell_type": "code",
   "execution_count": 1,
   "metadata": {},
   "outputs": [],
   "source": [
    "tree_map = open('04_input')\n",
    "passports = tree_map.read().split('\\n\\n')\n",
    "required_fields = [  # cid field not required\n",
    "    'byr',\n",
    "    'iyr',\n",
    "    'eyr',\n",
    "    'hgt',\n",
    "    'hcl',\n",
    "    'ecl',\n",
    "    'pid'\n",
    "]"
   ]
  },
  {
   "cell_type": "code",
   "execution_count": 2,
   "metadata": {},
   "outputs": [],
   "source": [
    "valid_passports_count = 0\n",
    "for passport in passports:\n",
    "    passport_valid = True\n",
    "    for field in required_fields:\n",
    "        field_valid = field in passport\n",
    "        passport_valid = passport_valid and field_valid  # remains False once invalid field occurs\n",
    "    if passport_valid:\n",
    "        valid_passports_count += 1"
   ]
  },
  {
   "cell_type": "code",
   "execution_count": 3,
   "metadata": {},
   "outputs": [
    {
     "name": "stdout",
     "output_type": "stream",
     "text": [
      "Number of valid passports: 256\n"
     ]
    }
   ],
   "source": [
    "print('Number of valid passports:', valid_passports_count)"
   ]
  },
  {
   "cell_type": "markdown",
   "metadata": {},
   "source": [
    "## Part 2\n",
    "Should have done this using `pandas.DataFrame`..."
   ]
  },
  {
   "cell_type": "code",
   "execution_count": 4,
   "metadata": {},
   "outputs": [],
   "source": [
    "def ByrValid(byr):\n",
    "    return 1920 <= int(byr) <= 2002"
   ]
  },
  {
   "cell_type": "code",
   "execution_count": 5,
   "metadata": {},
   "outputs": [],
   "source": [
    "def IyrValid(iyr):\n",
    "    return 2010 <= int(iyr) <= 2020"
   ]
  },
  {
   "cell_type": "code",
   "execution_count": 6,
   "metadata": {},
   "outputs": [],
   "source": [
    "def EyrValid(eyr):\n",
    "    return 2020 <= int(eyr) <= 2030"
   ]
  },
  {
   "cell_type": "code",
   "execution_count": 7,
   "metadata": {},
   "outputs": [],
   "source": [
    "def HgtValid(hgt):\n",
    "    if 'cm' in hgt:\n",
    "        return 150 <= int(hgt.strip('cm')) <= 193\n",
    "    elif 'in' in hgt:\n",
    "        return 59 <= int(hgt.strip('in')) <= 76\n",
    "    else:\n",
    "        return False"
   ]
  },
  {
   "cell_type": "code",
   "execution_count": 8,
   "metadata": {},
   "outputs": [],
   "source": [
    "import re\n",
    "\n",
    "def IsHex(hex_string):\n",
    "    valid_digits = set(\"0123456789abcdef\")\n",
    "    for char in hex_string:\n",
    "        if char not in valid_digits:\n",
    "            return False\n",
    "    return True"
   ]
  },
  {
   "cell_type": "code",
   "execution_count": 9,
   "metadata": {},
   "outputs": [],
   "source": [
    "def HclValid(hcl):\n",
    "    contains_hash = hcl[0] == '#'\n",
    "    has_six_chars = len(hcl.strip('#')) == 6\n",
    "    chars_valid = IsHex(hcl.strip('#'))\n",
    "    return contains_hash and has_six_chars and chars_valid"
   ]
  },
  {
   "cell_type": "code",
   "execution_count": 10,
   "metadata": {},
   "outputs": [],
   "source": [
    "def EclValid(ecl):\n",
    "    valid_ecls = [\n",
    "        'amb',\n",
    "        'blu',\n",
    "        'brn',\n",
    "        'gry',\n",
    "        'grn',\n",
    "        'hzl',\n",
    "        'oth'\n",
    "    ]\n",
    "    for valid_ecl in valid_ecls:\n",
    "        if ecl == valid_ecl:\n",
    "            return True\n",
    "    return False"
   ]
  },
  {
   "cell_type": "code",
   "execution_count": 11,
   "metadata": {},
   "outputs": [],
   "source": [
    "def PidValid(pid):\n",
    "    return len(pid) == 9"
   ]
  },
  {
   "cell_type": "code",
   "execution_count": 12,
   "metadata": {},
   "outputs": [],
   "source": [
    "def CidValid(cid):\n",
    "    return True"
   ]
  },
  {
   "cell_type": "code",
   "execution_count": 13,
   "metadata": {
    "scrolled": true
   },
   "outputs": [],
   "source": [
    "def CompletePassports(passports, required_fields):\n",
    "    complete_passports = list()\n",
    "    for passport in passports:\n",
    "        passport_complete = True\n",
    "        for field in required_fields:\n",
    "            field_exists = field in passport\n",
    "            passport_complete = passport_complete and field_exists\n",
    "        if passport_complete:\n",
    "            complete_passports.append(passport)\n",
    "    return complete_passports"
   ]
  },
  {
   "cell_type": "code",
   "execution_count": 14,
   "metadata": {},
   "outputs": [],
   "source": [
    "FieldValid = {\n",
    "    'byr' : ByrValid,\n",
    "    'iyr' : IyrValid,\n",
    "    'eyr' : EyrValid,\n",
    "    'hgt' : HgtValid,\n",
    "    'hcl' : HclValid,\n",
    "    'ecl' : EclValid,\n",
    "    'pid' : PidValid,\n",
    "    'cid' : CidValid\n",
    "}\n",
    "valid_passports_count = 0\n",
    "for passport in CompletePassports(passports, required_fields):\n",
    "    passport_valid = True\n",
    "    fields = passport.split()\n",
    "    for field in fields:\n",
    "        key, val = field.split(':')\n",
    "        field_valid = FieldValid[key](val)\n",
    "        passport_valid = passport_valid and field_valid\n",
    "    if passport_valid:\n",
    "        valid_passports_count += 1"
   ]
  },
  {
   "cell_type": "code",
   "execution_count": 15,
   "metadata": {},
   "outputs": [
    {
     "name": "stdout",
     "output_type": "stream",
     "text": [
      "Number of valid passports: 198\n"
     ]
    }
   ],
   "source": [
    "print('Number of valid passports:', valid_passports_count)"
   ]
  }
 ],
 "metadata": {
  "kernelspec": {
   "display_name": "Python 3",
   "language": "python",
   "name": "python3"
  },
  "language_info": {
   "codemirror_mode": {
    "name": "ipython",
    "version": 3
   },
   "file_extension": ".py",
   "mimetype": "text/x-python",
   "name": "python",
   "nbconvert_exporter": "python",
   "pygments_lexer": "ipython3",
   "version": "3.7.6"
  }
 },
 "nbformat": 4,
 "nbformat_minor": 4
}
